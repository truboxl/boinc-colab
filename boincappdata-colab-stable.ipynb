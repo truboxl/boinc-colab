{
  "nbformat": 4,
  "nbformat_minor": 0,
  "metadata": {
    "colab": {
      "name": "boincappdata-colab-stable.ipynb",
      "private_outputs": true,
      "provenance": [],
      "collapsed_sections": [],
      "toc_visible": true,
      "authorship_tag": "ABX9TyNBHR3EA+ICLuehBEoAiE5O",
      "include_colab_link": true
    },
    "kernelspec": {
      "name": "python3",
      "display_name": "Python 3"
    }
  },
  "cells": [
    {
      "cell_type": "markdown",
      "metadata": {
        "id": "view-in-github",
        "colab_type": "text"
      },
      "source": [
        "<a href=\"https://colab.research.google.com/github/truboxl/boinc-colab/blob/master/boincappdata-colab-stable.ipynb\" target=\"_parent\"><img src=\"https://colab.research.google.com/assets/colab-badge.svg\" alt=\"Open In Colab\"/></a>"
      ]
    },
    {
      "cell_type": "markdown",
      "metadata": {
        "id": "2ZZNOBNU6em-"
      },
      "source": [
        "# BOINC for Google Colab (CPU)\n",
        "\n",
        "This is a Colab notebook for running BOINC on Google Colab.\n",
        "Written by [truboxl](https://github.com/truboxl).\n",
        "\n",
        "Licensed under MIT License.\n",
        "\n",
        "See Table of contents at the left sidebar for different sections."
      ]
    },
    {
      "cell_type": "code",
      "metadata": {
        "id": "xVDW8jrs70L_"
      },
      "source": [
        "# add code line 16-48 to F12 console to prevent disconnect\n",
        "# or use Tampermonkey\n",
        "'''\n",
        "// ==UserScript==\n",
        "// @name         Colab Auto Reconnect Script\n",
        "// @namespace    https://github.com/truboxl\n",
        "// @version      2021-01-10\n",
        "// @description  Use CARS to stay connected with Google Colab\n",
        "// @author       truboxl\n",
        "// @match        *://colab.research.google.com/drive/*\n",
        "// @grant        none\n",
        "// ==/UserScript==\n",
        "\n",
        "(function() {\n",
        "    'use strict';\n",
        "    // https://greasyfork.org/en/scripts/412404-colab-保持活跃-make-colab-keep-alive\n",
        "    // 60010-80490 (1min+) is too short\n",
        "    function timer() {\n",
        "        var min = 5*60*1000\n",
        "        var max = 8*60*1000\n",
        "        var randomTime = parseInt(Math.random()*(max-min)+min, 10); // 5min+ x 60s x 1000ms\n",
        "        console.log(\"Random time (ms) =\", randomTime);\n",
        "        console.log(\"Random time (min) =\", randomTime/1000/60);\n",
        "        return randomTime;\n",
        "    }\n",
        "\n",
        "    // https://www.quora.com/In-JavaScript-how-can-I-simulate-a-keystroke\n",
        "    var ESCkey = new KeyboardEvent('keydown', {'keyCode':27, 'which':27});\n",
        "    function FakeESC() {\n",
        "        console.log(\"Faking ESC key\");\n",
        "        document.dispatchEvent(ESCkey);\n",
        "    }\n",
        "\n",
        "    // https://medium.com/@shivamrawat_756/how-to-prevent-google-colab-from-disconnecting-717b88a128c0\n",
        "    function FakeClick() {\n",
        "        console.log(\"Faking click\");\n",
        "        // colab-connect-button or colab-toolbar-button\n",
        "        document.querySelector(\"colab-connect-button\").click();\n",
        "    }\n",
        "    function FakeEvent() {\n",
        "        FakeClick();\n",
        "        console.log(\"Waiting 5min for next faking\");\n",
        "        console.log(\"Faking ESC key in 5s\");\n",
        "        setTimeout(FakeESC, 5000);\n",
        "        setTimeout(FakeEvent, timer());\n",
        "    }\n",
        "    // main loop\n",
        "    setTimeout(FakeEvent, timer());\n",
        "})();\n",
        "'''\n",
        "# if you are OK, then \"Run all\"\n",
        "!uptime && gcc -march=native -Q --help=target | sed 's|.*Known.*||g' | grep -E -- '-march=|-mtune=' | cut -f3"
      ],
      "execution_count": null,
      "outputs": []
    },
    {
      "cell_type": "markdown",
      "metadata": {
        "id": "Y4Dnr5HC68cq"
      },
      "source": [
        "## Connect Google Colab to Google Drive for persistent storage\n",
        "\n",
        "A Google account is required to allowing storing BOINC data on Google Drive.\n",
        "\n",
        "ALWAYS MAKE SURE NO ERROR OCCURED HERE!!! If so, do \"Factory reset runtime\"!\n",
        "\n"
      ]
    },
    {
      "cell_type": "code",
      "metadata": {
        "id": "rwhOQsRe72zB"
      },
      "source": [
        "%%time\n",
        "%cd /content/\n",
        "# https://stackoverflow.com/questions/55918562/changing-the-system-time-in-google-colaboratory\n",
        "!rm /etc/localtime && ln -s /usr/share/zoneinfo/Asia/Kuala_Lumpur /etc/localtime && date && uptime\n",
        "\n",
        "# allow access to Google Drive for storage, shorten entry to /content/gdrive/\n",
        "from google.colab import drive\n",
        "drive.mount('googledrive')\n",
        "!uptime && ln -s 'googledrive/My Drive' gdrive\n",
        "\n",
        "# you may want to clear your Trash in Google Drive to fix problems\n",
        "# https://drive.google.com/drive/trash\n",
        "# https://one.google.com/storage/management?from=1"
      ],
      "execution_count": null,
      "outputs": []
    },
    {
      "cell_type": "code",
      "metadata": {
        "id": "ZqEkbhB-zkcM"
      },
      "source": [
        "%%time\n",
        "'''\n",
        "There could be messages like below showing up, so beware!\n",
        "\"Colab is experiencing issues connecting to Drive, and we are actively investigating.\"\n",
        "\"Timeout Error\"\n",
        "\n",
        "Avoid projects that have deep folder structure to prevent Drive timeout error:\n",
        "Rosetta@home\n",
        "WCG ARP\n",
        "'''\n",
        "# set up BOINC data directory and permissions\n",
        "!mkdir -p /content/gdrive/boincappdata/\n",
        "%cd /content/gdrive/boincappdata/\n",
        "!chmod u+rwx -R projects slots 2>>/content/error.txt\n",
        "#!ls /content/gdrive/boincappdata/\n",
        "!ls -la projects/*/* slots/*/* | grep 'rw-'\n",
        "#!mount\n",
        "#!whoami"
      ],
      "execution_count": null,
      "outputs": []
    },
    {
      "cell_type": "markdown",
      "metadata": {
        "id": "Pqi5jHYO7Mg_"
      },
      "source": [
        "## Update VM components and install build tools"
      ]
    },
    {
      "cell_type": "code",
      "metadata": {
        "id": "GOCLE3f5hX7L"
      },
      "source": [
        "%%time\n",
        "%cd /content/gdrive/boincappdata/\n",
        "!chmod u+rwx -R projects slots 2>>/content/error.txt\n",
        "\n",
        "!apt-get update 2>/dev/null >/dev/null\n",
        "#!apt-get upgrade -y 2>/dev/null >/dev/null # can take some time, do we need to update all components? cuda is not updated for some reason\n",
        "!add-apt-repository -y ppa:ubuntu-toolchain-r/test 2>/dev/null >/dev/null # gcc 7.5 and clang 6.0 are too old to support skylake+ hardware\n",
        "!apt-get install -y gcc-10 g++-10 git make m4 automake autoconf libtool psmisc libjpeg62 2>/dev/null >/dev/null\n",
        "#!apt-get install -y clang-10 2>/dev/null >/dev/null"
      ],
      "execution_count": null,
      "outputs": []
    },
    {
      "cell_type": "markdown",
      "metadata": {
        "id": "9QcjNf_y7a6W"
      },
      "source": [
        "## Wheel of fortune"
      ]
    },
    {
      "cell_type": "code",
      "metadata": {
        "id": "sgRHUsM6QT-H"
      },
      "source": [
        "%%time\n",
        "'''\n",
        "You can try reroll your chance using \"Factory Reset Runtime\" but it doesn't always work\n",
        "Probability of chip given by Google: (performance not listed in order)\n",
        "znver2 (wrongly identified znver1):        ++\n",
        "skylake-avx512 (wrongly identified knl):   ++\n",
        "broadwell:                                 +++++++++\n",
        "haswell:                                   ++++++++++\n",
        "'''\n",
        "!lscpu | grep -E 'CPU family:|Model:|Model name:' # sometimes Intel Xeon or AMD EPYC\n",
        "!gcc-10 -march=native -Q --help=target | sed 's|.*Known.*||g' | grep -E -- '-march=|-mtune=' | cut -f3 # Xeon has many generations, give me details\n",
        "!gcc-10 -march=native -Q --help=target | sed 's|.*Known.*||g' | grep -- '-march=' | cut -f3 >/content/march.txt\n",
        "#!echo | clang-10 -E - -march=native -\\#\\#\\# # clang is a bit more ugly"
      ],
      "execution_count": null,
      "outputs": []
    },
    {
      "cell_type": "markdown",
      "metadata": {
        "id": "nu2KJHGm7iRQ"
      },
      "source": [
        "# Compile BOINC from source"
      ]
    },
    {
      "cell_type": "code",
      "metadata": {
        "id": "OWngt1YguyTS"
      },
      "source": [
        "%%time\n",
        "# build BOINC from source because release version still dont have ability to change localhost name\n",
        "%cd /content/\n",
        "!git clone git://github.com/boinc/boinc"
      ],
      "execution_count": null,
      "outputs": []
    },
    {
      "cell_type": "code",
      "metadata": {
        "id": "Kt9Y_HCCQWdX"
      },
      "source": [
        "%%time\n",
        "%cd /content/boinc/\n",
        "!sed -e 's/^if !OS_WIN32/if OS_DARWIN/' -i client/Makefile.am # disable building switcher\n",
        "!grep 'if !OS_WIN32' client/Makefile.am"
      ],
      "execution_count": null,
      "outputs": []
    },
    {
      "cell_type": "code",
      "metadata": {
        "id": "071PLO5eu1Sy"
      },
      "source": [
        "%%time\n",
        "%cd /content/boinc/\n",
        "!gcc-10 -v 2>&1 | grep 'gcc version'\n",
        "#!clang-10 -v 2>&1 | grep 'clang version'\n",
        "import os\n",
        "commonFLAGS = '-pipe -O2 -march=native -fstack-protector-strong -Werror=return-type -Werror=int-to-pointer-cast '\n",
        "os.environ['CFLAGS']    = commonFLAGS + \\\n",
        "                          '-Werror=pointer-to-int-cast '+ \\\n",
        "                          '-Werror=implicit-function-declaration'\n",
        "os.environ['CXXFLAGS']  = commonFLAGS\n",
        "os.environ['CC']        = 'gcc-10'           # gcc-10 or clang-10\n",
        "os.environ['CXX']       = 'g++-10'           # g++-10 or clang++-10\n",
        "os.environ['AR']        = 'gcc-ar-10'        # gcc-ar-10 or llvm-ar-10\n",
        "os.environ['RANLIB']    = 'gcc-ranlib-10'    # gcc-ranlib-10 or llvm-ranlib-10\n",
        "os.environ['NM']        = 'gcc-nm-10'        # gcc-nm-10 or llvm-nm-10\n",
        "!make -s distclean 2>/dev/null >/dev/null\n",
        "!./_autosetup 2>/dev/null >/dev/null\n",
        "!./configure --disable-server --disable-manager 2>/dev/null >/dev/null"
      ],
      "execution_count": null,
      "outputs": []
    },
    {
      "cell_type": "code",
      "metadata": {
        "id": "AGSIP66Lu5pH"
      },
      "source": [
        "%%time\n",
        "%cd /content/boinc/\n",
        "!time make -s -j$(($(nproc)*3/2)) 2>/dev/null >/dev/null"
      ],
      "execution_count": null,
      "outputs": []
    },
    {
      "cell_type": "markdown",
      "metadata": {
        "id": "uLmvh9gQ0MvS"
      },
      "source": [
        "# Install / restart BOINC"
      ]
    },
    {
      "cell_type": "code",
      "metadata": {
        "id": "ObbvL1Yhvdxt"
      },
      "source": [
        "%%time\n",
        "%cd /content/boinc/\n",
        "!while true; do \\\n",
        "    echo \"Checking whether BOINC is running... $(pidof boinc)\"; \\\n",
        "    if [ \"$(pidof -s boinc)\" = \"\" ]; then \\\n",
        "        break; \\\n",
        "    fi; \\\n",
        "    echo \"Killing BOINC...\"; \\\n",
        "    kill \"$(pidof -s boinc)\"; \\\n",
        "    sleep 10; \\\n",
        "done\n",
        "!make -s install 2>/dev/null >/dev/null\n",
        "!which boinc\n",
        "!du /usr/local/bin/boinc*\n",
        "!strip /usr/local/bin/boinc*\n",
        "!du /usr/local/bin/boinc*"
      ],
      "execution_count": null,
      "outputs": []
    },
    {
      "cell_type": "markdown",
      "metadata": {
        "id": "ZxYkQ8ty6OE3"
      },
      "source": [
        "# Running BOINC\n",
        "\n",
        "Remove previous logs and run benchmark first so that:\n",
        "\n",
        "1. credits properly granted\n",
        "1. compiled BOINC client does not crash"
      ]
    },
    {
      "cell_type": "code",
      "metadata": {
        "id": "23GQOHxwZlqi"
      },
      "source": [
        "%cd /content/gdrive/boincappdata\n",
        "#%pycat /content/gdrive/boincappdata/cc_config.xml\n",
        "# update device name before launching BOINC rather than after to avoid regen ID\n",
        "!while true; do \\\n",
        "    echo \"Checking whether BOINC is running... $(pidof boinc)\"; \\\n",
        "    if [ \"$(pidof -s boinc)\" = \"\" ]; then \\\n",
        "        break; \\\n",
        "    fi; \\\n",
        "    echo \"Killing BOINC...\"; \\\n",
        "    kill \"$(pidof -s boinc)\"; \\\n",
        "    sleep 10; \\\n",
        "done\n",
        "!grep '<device_name>' cc_config.xml\n",
        "!sed -e \"s|<device_name>.*|<device_name>Colab $(paste /content/march.txt) $(date +%Y%m%d)</device_name>|\" -i cc_config.xml\n",
        "!grep '<device_name>' cc_config.xml"
      ],
      "execution_count": null,
      "outputs": []
    },
    {
      "cell_type": "code",
      "metadata": {
        "id": "gyAdHJ8lv7fp"
      },
      "source": [
        "%%time\n",
        "%cd /content/gdrive/boincappdata/\n",
        "# if need run benchmark, append boinc with parameter --run_cpu_benchmarks\n",
        "!if [ -z \"$(pidof -s boinc)\" ] && [ -z \"$(paste /content/error.txt)\" ]; then \\\n",
        "    rm -f time_stats_log stdoutdae.txt stderrdae.txt stdoutgpudetect.txt stderrgpudetect.txt; \\\n",
        "    echo 'Starting BOINC...'; \\\n",
        "    boinc --daemon --dir /content/gdrive/boincappdata/; \\\n",
        "    sleep 30; \\\n",
        "fi"
      ],
      "execution_count": null,
      "outputs": []
    },
    {
      "cell_type": "markdown",
      "metadata": {
        "id": "_mlligEk7v29"
      },
      "source": [
        "# Managing BOINC"
      ]
    },
    {
      "cell_type": "markdown",
      "metadata": {
        "id": "LRc2xnQ0pJjO"
      },
      "source": [
        "## Output\n",
        "\n",
        "Running the first 2 should give you the overall view of VM usage by BOINC."
      ]
    },
    {
      "cell_type": "code",
      "metadata": {
        "id": "WvwlVKmo6iqZ"
      },
      "source": [
        "%%time\n",
        "!uptime\n",
        "!pstree -al # check currently running processes\n",
        "#!paste /proc/meminfo # check meminfo"
      ],
      "execution_count": null,
      "outputs": []
    },
    {
      "cell_type": "code",
      "metadata": {
        "id": "fOL9U2X3nYpV"
      },
      "source": [
        "%%time\n",
        "%cd /content/gdrive/boincappdata/\n",
        "!uptime\n",
        "#!paste stdoutdae.txt # show full log\n",
        "#!paste stderrdae.txt\n",
        "#!tail stdoutdae.txt # show last few lines\n",
        "#!tail -f stdoutdae.txt # follow log\n",
        "!tail -n -50 stdoutdae.txt # last 50 lines of log"
      ],
      "execution_count": null,
      "outputs": []
    },
    {
      "cell_type": "markdown",
      "metadata": {
        "id": "tdpKawmRziel"
      },
      "source": [
        "## Control panel (boinccmd)\r\n",
        "\r\n",
        "Use this to monitor BOINC client, set up projects, connect account managers"
      ]
    },
    {
      "cell_type": "code",
      "metadata": {
        "id": "OzBWA2KP1lCN"
      },
      "source": [
        "%%time\n",
        "%cd /content/gdrive/boincappdata/\n",
        "!uptime && du -sh\n",
        "#!boinc --help\n",
        "#!boinccmd --help\n",
        "#!boinccmd --passwd $(paste gui_rpc_auth.cfg) --lookup_account URL email passwd\n",
        "#!boinccmd --passwd $(paste gui_rpc_auth.cfg) --project_attach URL auth\n",
        "#!boinccmd --passwd $(paste gui_rpc_auth.cfg) --acct_mgr attach URL name passwd\n",
        "#!boinccmd --passwd $(paste gui_rpc_auth.cfg) --network_available\n",
        "#!boinccmd --passwd $(paste gui_rpc_auth.cfg) --acct_mgr sync\n",
        "#!boinccmd --passwd $(paste gui_rpc_auth.cfg) --acct_mgr info\n",
        "#!boinccmd --passwd $(paste gui_rpc_auth.cfg) --acct_mgr detach\n",
        "#!boinccmd --passwd $(paste gui_rpc_auth.cfg) --project URL nomorework # reset | detach | update | suspend | resume | nomorework | allowmorework | detach_when_done | dont_detach_when_done\n",
        "#!boinccmd --passwd $(paste gui_rpc_auth.cfg) --task URL task_name abort # suspend | resume | abort\n",
        "#!time boinccmd --passwd $(paste gui_rpc_auth.cfg) --get_state #| grep 'request more work'\n",
        "!time boinccmd --passwd $(paste gui_rpc_auth.cfg) --get_tasks | grep -E '   name|active_task_state|fraction done'"
      ],
      "execution_count": null,
      "outputs": []
    },
    {
      "cell_type": "markdown",
      "metadata": {
        "id": "BWGYjyCyzpay"
      },
      "source": [
        "## Control panel (cc_config.xml)\r\n",
        "\r\n",
        "Create this config file once"
      ]
    },
    {
      "cell_type": "code",
      "metadata": {
        "id": "tszw7GBct3pY"
      },
      "source": [
        "#%cd /content/gdrive/boincappdata/\n",
        "#%pycat /content/gdrive/boincappdata/cc_config.xml\n",
        "#!boinccmd --passwd $(paste gui_rpc_auth.cfg) --read_cc_config"
      ],
      "execution_count": null,
      "outputs": []
    },
    {
      "cell_type": "code",
      "metadata": {
        "id": "N2s8XeJSvy_t"
      },
      "source": [
        "'''\n",
        "%%writefile /content/gdrive/boincappdata/cc_config.xml\n",
        "<cc_config>\n",
        "<options>\n",
        "<device_name>Colab</device_name>\n",
        "<no_alt_platform>1</no_alt_platform>\n",
        "<report_results_immediately>1</report_results_immediately>\n",
        "</options>\n",
        "</cc_config>\n",
        "'''"
      ],
      "execution_count": null,
      "outputs": []
    },
    {
      "cell_type": "markdown",
      "metadata": {
        "id": "OPA2gK-Wzu8I"
      },
      "source": [
        "## Control panel (global_prefs_override.xml)\r\n",
        "\r\n",
        "On demand compute, don't buffer tasks"
      ]
    },
    {
      "cell_type": "code",
      "metadata": {
        "id": "BzL5oYFRRgY-"
      },
      "source": [
        "#%cd /content/gdrive/boincappdata/\n",
        "#%pycat /content/gdrive/boincappdata/global_prefs_override.xml\n",
        "#!boinccmd --passwd $(paste gui_rpc_auth.cfg) --read_global_prefs_override"
      ],
      "execution_count": null,
      "outputs": []
    },
    {
      "cell_type": "code",
      "metadata": {
        "id": "2mD081ENoaZ4"
      },
      "source": [
        "'''\n",
        "%%writefile /content/gdrive/boincappdata/global_prefs_override.xml\n",
        "<global_preferences>\n",
        "   <run_on_batteries>1</run_on_batteries>\n",
        "   <run_if_user_active>1</run_if_user_active>\n",
        "   <run_gpu_if_user_active>1</run_gpu_if_user_active>\n",
        "   <suspend_cpu_usage>0.000000</suspend_cpu_usage>\n",
        "   <start_hour>0.000000</start_hour>\n",
        "   <end_hour>0.000000</end_hour>\n",
        "   <net_start_hour>0.000000</net_start_hour>\n",
        "   <net_end_hour>0.000000</net_end_hour>\n",
        "   <leave_apps_in_memory>0</leave_apps_in_memory>\n",
        "   <confirm_before_connecting>0</confirm_before_connecting>\n",
        "   <hangup_if_dialed>0</hangup_if_dialed>\n",
        "   <dont_verify_images>0</dont_verify_images>\n",
        "   <work_buf_min_days>0.000000</work_buf_min_days>\n",
        "   <work_buf_additional_days>0.000000</work_buf_additional_days>\n",
        "   <max_ncpus_pct>100.000000</max_ncpus_pct>\n",
        "   <cpu_scheduling_period_minutes>60.000000</cpu_scheduling_period_minutes>\n",
        "   <disk_interval>60.000000</disk_interval>\n",
        "   <disk_max_used_gb>0.000000</disk_max_used_gb>\n",
        "   <disk_max_used_pct>100.000000</disk_max_used_pct>\n",
        "   <disk_min_free_gb>0.000000</disk_min_free_gb>\n",
        "   <vm_max_used_pct>1.000000</vm_max_used_pct>\n",
        "   <ram_max_used_busy_pct>75.000000</ram_max_used_busy_pct>\n",
        "   <ram_max_used_idle_pct>90.000000</ram_max_used_idle_pct>\n",
        "   <max_bytes_sec_up>0.000000</max_bytes_sec_up>\n",
        "   <max_bytes_sec_down>0.000000</max_bytes_sec_down>\n",
        "   <cpu_usage_limit>100.000000</cpu_usage_limit>\n",
        "   <daily_xfer_limit_mb>0.000000</daily_xfer_limit_mb>\n",
        "   <daily_xfer_period_days>0</daily_xfer_period_days>\n",
        "</global_preferences>\n",
        "'''"
      ],
      "execution_count": null,
      "outputs": []
    },
    {
      "cell_type": "code",
      "metadata": {
        "id": "pSV3eYR_jUSS"
      },
      "source": [
        "#%cd /content/gdrive/boincappdata/\n",
        "#%pycat /content/gdrive/boincappdata/client_state.xml"
      ],
      "execution_count": null,
      "outputs": []
    },
    {
      "cell_type": "code",
      "metadata": {
        "id": "A_--TbFEjc6m"
      },
      "source": [
        "#%%writefile /content/gdrive/boincappdata/client_state.xml"
      ],
      "execution_count": null,
      "outputs": []
    }
  ]
}