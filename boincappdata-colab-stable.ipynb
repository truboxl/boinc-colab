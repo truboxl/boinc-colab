{
  "nbformat": 4,
  "nbformat_minor": 0,
  "metadata": {
    "colab": {
      "name": "boincappdata-colab-stable.ipynb",
      "private_outputs": true,
      "provenance": [],
      "collapsed_sections": [],
      "mount_file_id": "11OsBNIxGwE5JdIiR8YpXhCPMZ-336Nn5",
      "authorship_tag": "ABX9TyOItXR+o3jz6ELKwxPQ+z5f",
      "include_colab_link": true
    },
    "kernelspec": {
      "name": "python3",
      "display_name": "Python 3"
    }
  },
  "cells": [
    {
      "cell_type": "markdown",
      "metadata": {
        "id": "view-in-github",
        "colab_type": "text"
      },
      "source": [
        "<a href=\"https://colab.research.google.com/github/truboxl/boinc-colab/blob/master/boincappdata-colab-stable.ipynb\" target=\"_parent\"><img src=\"https://colab.research.google.com/assets/colab-badge.svg\" alt=\"Open In Colab\"/></a>"
      ]
    },
    {
      "cell_type": "markdown",
      "metadata": {
        "id": "2ZZNOBNU6em-"
      },
      "source": [
        "# BOINC for Google Colab (CPU)\n",
        "\n",
        "This is a Colab notebook for running BOINC on Google Colab\n",
        "\n",
        "Written by [truboxl](https://github.com/truboxl)\n",
        "\n",
        "Licensed under MIT License\n",
        "\n",
        "See Table of contents at the left sidebar for different sections"
      ]
    },
    {
      "cell_type": "code",
      "metadata": {
        "id": "xVDW8jrs70L_"
      },
      "source": [
        "# add this code to F12 console to prevent disconnect or use Tampermonkey\n",
        "# remember to bind F10 key to \"Connect to a runtime\" in Tools > Keyboard shortcuts\n",
        "'''\n",
        "// ==UserScript==\n",
        "// @name         Colab Auto Reconnect Script\n",
        "// @namespace    https://github.com/truboxl\n",
        "// @version      2021-03-07\n",
        "// @description  Use CARS to stay connected with Google Colab\n",
        "// @author       truboxl\n",
        "// @match        *://colab.research.google.com/drive/*\n",
        "// @grant        none\n",
        "// ==/UserScript==\n",
        "\n",
        "(function() {\n",
        "    'use strict';\n",
        "    // https://greasyfork.org/en/scripts/412404-colab-保持活跃-make-colab-keep-alive\n",
        "    // 60010-80490 (1min+) is too short\n",
        "    function timer() {\n",
        "        var min = 5*60*1000\n",
        "        var max = 8*60*1000\n",
        "        var randomTime = parseInt(Math.random()*(max-min)+min, 10); // 5min+ x 60s x 1000ms\n",
        "        console.log(\"Random time (ms) =\", randomTime);\n",
        "        console.log(\"Random time (min) =\", randomTime/1000/60);\n",
        "        return randomTime;\n",
        "    }\n",
        "\n",
        "    // https://www.quora.com/In-JavaScript-how-can-I-simulate-a-keystroke\n",
        "    var ESCkey = new KeyboardEvent('keydown', {'keyCode':27, 'which':27});\n",
        "    function FakeESC() {\n",
        "        console.log(\"Faking ESC key\");\n",
        "        document.dispatchEvent(ESCkey);\n",
        "    }\n",
        "\n",
        "    // https://medium.com/@shivamrawat_756/how-to-prevent-google-colab-from-disconnecting-717b88a128c0\n",
        "    function FakeClick() {\n",
        "        console.log(\"Faking click\");\n",
        "        // no longer works\n",
        "        //document.querySelector(\"colab-connect-button\").click();\n",
        "        // assign a key yourself, I choose F10 in keyboard shortcuts for \"Connect to a runtime\"\n",
        "        var F10key = new KeyboardEvent('keydown', {'keyCode':121, 'which':121});\n",
        "        document.dispatchEvent(F10key);\n",
        "    }\n",
        "    function FakeEvent() {\n",
        "        FakeClick();\n",
        "        console.log(\"Waiting 5min for next faking\");\n",
        "        console.log(\"Faking ESC key in 5s\");\n",
        "        setTimeout(FakeESC, 5000);\n",
        "        setTimeout(FakeEvent, timer());\n",
        "    }\n",
        "    // main loop\n",
        "    setTimeout(FakeEvent, 10*60*1000);\n",
        "})();\n",
        "'''\n",
        "# if you are OK, then \"Run all\"\n",
        "!uptime && gcc -march=native -Q --help=target | sed 's|.*Known.*||g' | grep -E -- '-march=|-mtune=' | cut -f3"
      ],
      "execution_count": null,
      "outputs": []
    },
    {
      "cell_type": "markdown",
      "metadata": {
        "id": "Y4Dnr5HC68cq"
      },
      "source": [
        "## Connect Google Colab to Google Drive for persistent storage\n",
        "\n",
        "A Google account is required to allowing storing BOINC data on Google Drive.\n",
        "\n",
        "ALWAYS MAKE SURE NO ERROR OCCURED HERE!"
      ]
    },
    {
      "cell_type": "code",
      "metadata": {
        "id": "rwhOQsRe72zB"
      },
      "source": [
        "%%time\n",
        "%cd /content/\n",
        "# https://stackoverflow.com/questions/55918562/changing-the-system-time-in-google-colaboratory\n",
        "!ln -fs /usr/share/zoneinfo/Asia/Kuala_Lumpur /etc/localtime && date && uptime\n",
        "\n",
        "# NO LONGER REQUIRED: USE FILES TAB > \"MOUNT DRIVE\" TO AUTOMOUNT\n",
        "# allow access to Google Drive for storage, shorten entry to /content/gdrive/\n",
        "#from google.colab import drive\n",
        "#drive.mount('googledrive')\n",
        "#!uptime && ln -s 'googledrive/My Drive' gdrive\n",
        "\n",
        "# use this without having to sign in every single time after you mount from Files tab\n",
        "!ln -svT 'drive/MyDrive' gdrive\n",
        "\n",
        "# you may want to clear your Trash in Google Drive to fix problems\n",
        "# https://drive.google.com/drive/trash\n",
        "# https://one.google.com/storage/management"
      ],
      "execution_count": null,
      "outputs": []
    },
    {
      "cell_type": "code",
      "metadata": {
        "id": "8KcMfsjPiqWV"
      },
      "source": [
        "%%time\n",
        "# use rsync instead of directly R/W Google Drive to avoid I/O issues\n",
        "# may take a long time if project has deep folder structure, eg: Rosetta@home\n",
        "!mkdir -p /content/gdrive/boincappdata/\n",
        "!rsync -hva --delete --inplace /content/gdrive/boincappdata/ /content/boincappdata/ >>/content/init.txt 2>>/content/error.txt"
      ],
      "execution_count": null,
      "outputs": []
    },
    {
      "cell_type": "code",
      "metadata": {
        "id": "ZqEkbhB-zkcM"
      },
      "source": [
        "%%time\n",
        "# set up BOINC data directory and permissions\n",
        "!mkdir -p /content/boincappdata/\n",
        "%cd /content/boincappdata/\n",
        "!chmod -R u+rwx projects slots 2>>/content/error.txt\n",
        "#!ls /content/boincappdata/\n",
        "!ls -la projects/*/* slots/*/* | grep 'rw-'\n",
        "#!mount\n",
        "#!whoami"
      ],
      "execution_count": null,
      "outputs": []
    },
    {
      "cell_type": "code",
      "source": [
        "# clear error.txt to override\n",
        "#!echo >/content/error.txt"
      ],
      "metadata": {
        "id": "h5BCnsUMfe41"
      },
      "execution_count": null,
      "outputs": []
    },
    {
      "cell_type": "markdown",
      "metadata": {
        "id": "Pqi5jHYO7Mg_"
      },
      "source": [
        "## Update VM components and install build tools"
      ]
    },
    {
      "cell_type": "code",
      "metadata": {
        "id": "GOCLE3f5hX7L"
      },
      "source": [
        "%%time\n",
        "!apt-get update &>/dev/null\n",
        "#!apt-get upgrade -y &>/dev/null # can take some time, do we need to update all components? cuda is not updated for some reason\n",
        "!add-apt-repository -y ppa:ubuntu-toolchain-r/test &>/dev/null # gcc 7.5 and clang 6.0 are too old to support skylake+ hardware, latest libstdc++ for clang\n",
        "!apt-get install -y git make m4 automake autoconf libtool psmisc libjpeg62 &>/dev/null\n",
        "#!apt-get install -y gcc-11 g++-11 &>/dev/null # uncomment this if pick gcc\n",
        "#!bash -c \"$(curl -s https://apt.llvm.org/llvm.sh)\" #&>/dev/null # uncomment this if pick clang (official build)\n",
        "!curl -s https://apt.llvm.org/llvm-snapshot.gpg.key | apt-key add - # uncomment if llvm.sh does not work\n",
        "!add-apt-repository 'deb http://apt.llvm.org/bionic/   llvm-toolchain-bionic-14  main' &>/dev/null # uncomment if llvm.sh does not work\n",
        "!apt-get install -y clang-14 &>/dev/null # uncomment if llvm.sh does not work"
      ],
      "execution_count": null,
      "outputs": []
    },
    {
      "cell_type": "markdown",
      "metadata": {
        "id": "9QcjNf_y7a6W"
      },
      "source": [
        "## Wheel of fortune"
      ]
    },
    {
      "cell_type": "code",
      "metadata": {
        "id": "sgRHUsM6QT-H"
      },
      "source": [
        "%%time\n",
        "'''\n",
        "You can try reroll your chance using \"Factory Reset Runtime\" but it doesn't always work\n",
        "Probability of chip given by Google: (performance not listed in order)\n",
        "znver2 / znver1:        ++\n",
        "skylake-avx512 / knl:   ++\n",
        "broadwell:              +++++++++\n",
        "haswell:                ++++++++++\n",
        "'''\n",
        "!lscpu | grep -E 'CPU family:|Model:|Model name:' # sometimes Intel Xeon or AMD EPYC\n",
        "#!gcc-11 -march=native -Q --help=target | sed 's|.*Known.*||g' | grep -E -- '-march=|-mtune=' | cut -f3 # Xeon has many generations, give me details\n",
        "#!gcc-11 -march=native -Q --help=target | sed 's|.*Known.*||g' | grep -- '-march=' | cut -f3 >/content/march.txt\n",
        "!echo | clang-14 -E - -march=native -### # clang is a bit more ugly\n",
        "!echo | clang-14 -E - -march=native -### 2>&1 | grep /usr/lib | sed 's|^.*-target-cpu\" \"||' | sed 's|\".*$||' >/content/march.txt"
      ],
      "execution_count": null,
      "outputs": []
    },
    {
      "cell_type": "code",
      "metadata": {
        "id": "dfbUZnCaxUOh",
        "collapsed": true
      },
      "source": [
        "'''\n",
        "Tests:\n",
        "march           |   benchmark (highest ever, usually fluke, fp only, int not used)\n",
        "broadwell           3170\n",
        "haswell             3168\n",
        "znver2              3138\n",
        "skylake-avx512      3605\n",
        "\n",
        "best config so far:     gcc + -O2 -march=native\n",
        "\n",
        "Compiler optimization options (listed independently):\n",
        "Increase benchmark score:           -O3 (stack overflow on znver2 with -flto)\n",
        "Reduce latency (preferably this):   -O2\n",
        "Bad:                                -ffast-math\n",
        "                                    -Os (gcc make tiny executable but very high impact on integer performance, clang is different story)\n",
        "                                    -Oz (clang only, same as gcc -Os)\n",
        "Dubious / questionable:             -funroll-loops\n",
        "Good:                               -march=native (implies -mtune=\"same_as_march_option\" unless CPU newer than database or broken cc)\n",
        "\n",
        "References:\n",
        "https://stackoverflow.com/questions/42718572/gcc-mtune-vs-march-vs-mcpu (use -march for x86)\n",
        "https://community.arm.com/developer/tools-software/tools/b/tools-software-ides-blog/posts/compiler-flags-across-architectures-march-mtune-and-mcpu (use -mcpu for ARM)\n",
        "https://www.mail-archive.com/boinc_dev@ssl.berkeley.edu/msg08619.html (-flto broke integer benchmark)\n",
        "https://www.mail-archive.com/boinc_dev@ssl.berkeley.edu/msg08623.html (only floating point score is used for credit calculation)\n",
        "'''"
      ],
      "execution_count": null,
      "outputs": []
    },
    {
      "cell_type": "markdown",
      "metadata": {
        "id": "nu2KJHGm7iRQ"
      },
      "source": [
        "# Compile BOINC from source"
      ]
    },
    {
      "cell_type": "code",
      "metadata": {
        "id": "OWngt1YguyTS"
      },
      "source": [
        "%%time\n",
        "# build BOINC from source because I dont really care anymore\n",
        "%cd /content/\n",
        "# RIP efficient git protocol, use bulky https now\n",
        "# https://github.blog/2021-09-01-improving-git-protocol-security-github/#no-more-unauthenticated-git\n",
        "!git clone --depth 1 https://github.com/boinc/boinc"
      ],
      "execution_count": null,
      "outputs": []
    },
    {
      "cell_type": "code",
      "metadata": {
        "id": "Kt9Y_HCCQWdX"
      },
      "source": [
        "%%time\n",
        "%cd /content/boinc/\n",
        "!sed -e 's/^if !OS_WIN32/if OS_DARWIN/' -i client/Makefile.am # disable building switcher\n",
        "!grep 'if !OS_WIN32' client/Makefile.am"
      ],
      "execution_count": null,
      "outputs": []
    },
    {
      "cell_type": "code",
      "metadata": {
        "id": "V_vKjrXn5omI"
      },
      "source": [
        "%%time\n",
        "%cd /content/boinc/\n",
        "!if [ -f ../boinc.patch ]; then git apply ../boinc.patch; fi # add your own patch before this line"
      ],
      "execution_count": null,
      "outputs": []
    },
    {
      "cell_type": "code",
      "metadata": {
        "id": "071PLO5eu1Sy"
      },
      "source": [
        "%%time\n",
        "%cd /content/boinc/\n",
        "import os\n",
        "commonFLAGS = ' -Os -march=native -fstack-protector-strong -Werror=return-type -Werror=int-to-pointer-cast'\n",
        "os.environ['CFLAGS']    = commonFLAGS + \\\n",
        "                          ' -Werror=pointer-to-int-cast' + \\\n",
        "                          ' -Werror=implicit-function-declaration' + \\\n",
        "                          ' -ffunction-sections -fdata-sections -Wl,--gc-sections'\n",
        "os.environ['CXXFLAGS']  = commonFLAGS\n",
        "'''\n",
        "!gcc-11 -v 2>&1 | grep 'gcc version'\n",
        "gcc_version = '11'\n",
        "os.environ['CC']        = 'gcc-'            + gcc_version\n",
        "os.environ['CXX']       = 'g++-'            + gcc_version\n",
        "os.environ['AR']        = 'gcc-ar-'         + gcc_version # important for flto shared\n",
        "os.environ['RANLIB']    = 'gcc-ranlib-'     + gcc_version # important for flto static\n",
        "os.environ['NM']        = 'gcc-nm-'         + gcc_version\n",
        "'''\n",
        "!clang-14 -v 2>&1 | grep 'clang version'\n",
        "llvm_version = '14'\n",
        "os.environ['CC']        = 'clang-'          + llvm_version\n",
        "os.environ['CXX']       = 'clang++-'        + llvm_version\n",
        "os.environ['AR']        = 'llvm-ar-'        + llvm_version # important for flto shared\n",
        "os.environ['RANLIB']    = 'llvm-ranlib-'    + llvm_version # important for flto static\n",
        "os.environ['NM']        = 'llvm-nm-'        + llvm_version\n",
        "#!apt-get install libc++{,abi}-15-dev &>/dev/null\n",
        "#os.environ['CXXFLAGS']  = commonFLAGS       + ' -stdlib=libc++'\n",
        "\n",
        "!make -s distclean &>/dev/null\n",
        "!./_autosetup &>/dev/null\n",
        "!./configure --disable-server --disable-manager &>/dev/null\n",
        "#!./configure --disable-server --disable-manager \\\n",
        "#             --with-boinc-platform=windows_x86_64 \\\n",
        "#             --with-boinc-alt-platform=x86_64-pc-linux-gnu &>/dev/null"
      ],
      "execution_count": null,
      "outputs": []
    },
    {
      "cell_type": "code",
      "metadata": {
        "id": "AGSIP66Lu5pH"
      },
      "source": [
        "%%time\n",
        "%cd /content/boinc/\n",
        "!make -s -j$(nproc --all) &>/dev/null"
      ],
      "execution_count": null,
      "outputs": []
    },
    {
      "cell_type": "markdown",
      "metadata": {
        "id": "uLmvh9gQ0MvS"
      },
      "source": [
        "# Install / restart BOINC"
      ]
    },
    {
      "cell_type": "code",
      "metadata": {
        "id": "ObbvL1Yhvdxt"
      },
      "source": [
        "%%time\n",
        "%cd /content/boinc/\n",
        "!while true; do \\\n",
        "    echo \"Checking whether BOINC is running... $(pidof boinc)\"; \\\n",
        "    if [ \"$(pidof -s boinc)\" = \"\" ]; then \\\n",
        "        break; \\\n",
        "    fi; \\\n",
        "    echo \"Killing BOINC...\"; \\\n",
        "    kill \"$(pidof -s boinc)\"; \\\n",
        "    sleep 10; \\\n",
        "done\n",
        "!make -s install &>/dev/null\n",
        "!command -v boinc\n",
        "!du -h /usr/local/bin/boinc*\n",
        "!strip /usr/local/bin/boinc*\n",
        "!du -h /usr/local/bin/boinc*\n",
        "'''                     -O3         -O2         -Os         -Oz\n",
        "gcc 11                  1min 49s    1min 45s    1min 40s\n",
        "/usr/local/bin/boinc    1.4M\t    1.1M        848K\n",
        "/usr/local/bin/boinccmd 412K        352K        292K\n",
        "/usr/local/bin/boinc    1.2M\t    940K        696K\n",
        "/usr/local/bin/boinccmd 352K        292K        236K\n",
        "clang 13                1min 21s    1min 9s     1min 10s    1min 11s\n",
        "/usr/local/bin/boinc    1.1M        1004k       912K        924K\n",
        "/usr/local/bin/boinccmd 352K        348k        320K        328K\n",
        "/usr/local/bin/boinc    900K        868k        756K        724K\n",
        "/usr/local/bin/boinccmd 300K        292k        260K        252K\n",
        "'''"
      ],
      "execution_count": null,
      "outputs": []
    },
    {
      "cell_type": "markdown",
      "metadata": {
        "id": "ZxYkQ8ty6OE3"
      },
      "source": [
        "# Running BOINC\n",
        "\n",
        "Remove previous logs and run benchmark first so that:\n",
        "\n",
        "1. credits properly granted\n",
        "1. compiled BOINC client does not crash"
      ]
    },
    {
      "cell_type": "code",
      "metadata": {
        "id": "llRaYH6iZZlb"
      },
      "source": [
        "%cd /content/boincappdata/\n",
        "#%pycat /content/boincappdata/cc_config.xml\n",
        "# update device name before launching BOINC rather than after to avoid regen ID\n",
        "!while true; do \\\n",
        "    echo \"Checking whether BOINC is running... $(pidof boinc)\"; \\\n",
        "    if [ \"$(pidof -s boinc)\" = \"\" ]; then \\\n",
        "        break; \\\n",
        "    fi; \\\n",
        "    echo \"Killing BOINC...\"; \\\n",
        "    kill \"$(pidof -s boinc)\"; \\\n",
        "    sleep 10; \\\n",
        "done\n",
        "!grep '<device_name>' cc_config.xml\n",
        "!sed -e \"s|<device_name>.*|<device_name>colab $(cat /content/march.txt) $(date +%Y%m%d)</device_name>|\" -i cc_config.xml\n",
        "!grep '<device_name>' cc_config.xml"
      ],
      "execution_count": null,
      "outputs": []
    },
    {
      "cell_type": "code",
      "metadata": {
        "id": "gyAdHJ8lv7fp"
      },
      "source": [
        "%%time\n",
        "%cd /content/boincappdata/\n",
        "# if need run benchmark, append boinc with parameter --run_cpu_benchmarks\n",
        "!if [ -z \"$(pidof -s boinc)\" ] && [ -z \"$(cat /content/error.txt)\" ]; then \\\n",
        "    rm -f time_stats_log stdoutdae.txt stderrdae.txt stdoutgpudetect.txt stderrgpudetect.txt; \\\n",
        "    echo 'Starting BOINC...'; \\\n",
        "    boinc --daemon --dir /content/boincappdata/ --gui_rpc_port 31416; \\\n",
        "    sleep 30; \\\n",
        "fi\n",
        "!if [ -z \"$(pidof -s boinc)\" ]; then echo 'BOINC is not starting, check /content/error.txt'; fi"
      ],
      "execution_count": null,
      "outputs": []
    },
    {
      "cell_type": "markdown",
      "metadata": {
        "id": "_mlligEk7v29"
      },
      "source": [
        "# Managing BOINC"
      ]
    },
    {
      "cell_type": "markdown",
      "metadata": {
        "id": "LRc2xnQ0pJjO"
      },
      "source": [
        "## Output\n",
        "\n",
        "Running the first 2 should give you the overall view of VM usage by BOINC"
      ]
    },
    {
      "cell_type": "code",
      "metadata": {
        "id": "WvwlVKmo6iqZ"
      },
      "source": [
        "%%time\n",
        "!uptime\n",
        "!pstree -al # check currently running processes\n",
        "#!cat /proc/meminfo # check meminfo"
      ],
      "execution_count": null,
      "outputs": []
    },
    {
      "cell_type": "code",
      "metadata": {
        "id": "fOL9U2X3nYpV"
      },
      "source": [
        "%%time\n",
        "%cd /content/boincappdata/\n",
        "!uptime\n",
        "#!cat stdoutdae.txt # show full log\n",
        "#!cat stderrdae.txt\n",
        "#!tail stdoutdae.txt # show last few lines\n",
        "#!tail -f stdoutdae.txt # follow log\n",
        "!tail -n -50 stdoutdae.txt # last 50 lines of log"
      ],
      "execution_count": null,
      "outputs": []
    },
    {
      "cell_type": "markdown",
      "metadata": {
        "id": "tdpKawmRziel"
      },
      "source": [
        "## Control panel (boinccmd)"
      ]
    },
    {
      "cell_type": "code",
      "metadata": {
        "id": "OzBWA2KP1lCN"
      },
      "source": [
        "%%time\n",
        "%cd /content/boincappdata/\n",
        "!uptime && du -sh\n",
        "#!boinc --help\n",
        "#!boinccmd --help\n",
        "#!boinccmd --passwd $(cat gui_rpc_auth.cfg) --lookup_account URL email passwd\n",
        "#!boinccmd --passwd $(cat gui_rpc_auth.cfg) --project_attach URL auth\n",
        "#!boinccmd --passwd $(cat gui_rpc_auth.cfg) --acct_mgr attach URL name passwd\n",
        "#!boinccmd --passwd $(cat gui_rpc_auth.cfg) --network_available\n",
        "#!boinccmd --passwd $(cat gui_rpc_auth.cfg) --acct_mgr sync\n",
        "#!boinccmd --passwd $(cat gui_rpc_auth.cfg) --acct_mgr info\n",
        "#!boinccmd --passwd $(cat gui_rpc_auth.cfg) --acct_mgr detach\n",
        "#!boinccmd --passwd $(cat gui_rpc_auth.cfg) --project http://www.worldcommunitygrid.org/ allowmorework # reset | detach | update | suspend | resume | nomorework | allowmorework | detach_when_done | dont_detach_when_done\n",
        "#!boinccmd --passwd $(cat gui_rpc_auth.cfg) --task URL task_name abort # suspend | resume | abort\n",
        "#!boinccmd --passwd $(cat gui_rpc_auth.cfg) --get_state #| grep 'request more work'\n",
        "!boinccmd --passwd $(cat gui_rpc_auth.cfg) --get_tasks | grep -E '   name|project URL|active_task_state|CPU time|fraction done'"
      ],
      "execution_count": null,
      "outputs": []
    },
    {
      "cell_type": "markdown",
      "metadata": {
        "id": "BWGYjyCyzpay"
      },
      "source": [
        "## Control panel (cc_config.xml)"
      ]
    },
    {
      "cell_type": "code",
      "metadata": {
        "id": "tszw7GBct3pY"
      },
      "source": [
        "#%cd /content/boincappdata/\n",
        "#%pycat /content/boincappdata/cc_config.xml\n",
        "#!boinccmd --passwd $(cat gui_rpc_auth.cfg) --read_cc_config"
      ],
      "execution_count": null,
      "outputs": []
    },
    {
      "cell_type": "code",
      "metadata": {
        "id": "N2s8XeJSvy_t"
      },
      "source": [
        "'''\n",
        "%%writefile /content/boincappdata/cc_config.xml\n",
        "<cc_config>\n",
        "<options>\n",
        "<device_name>colab</device_name>\n",
        "<report_results_immediately>1</report_results_immediately>\n",
        "<no_alt_platform>1</no_alt_platform>\n",
        "</options>\n",
        "</cc_config>\n",
        "'''"
      ],
      "execution_count": null,
      "outputs": []
    },
    {
      "cell_type": "markdown",
      "metadata": {
        "id": "OPA2gK-Wzu8I"
      },
      "source": [
        "## Control panel (global_prefs_override.xml)"
      ]
    },
    {
      "cell_type": "code",
      "metadata": {
        "id": "BzL5oYFRRgY-"
      },
      "source": [
        "#%cd /content/boincappdata/\n",
        "#%pycat /content/boincappdata/global_prefs_override.xml\n",
        "#!boinccmd --passwd $(cat gui_rpc_auth.cfg) --read_global_prefs_override"
      ],
      "execution_count": null,
      "outputs": []
    },
    {
      "cell_type": "code",
      "metadata": {
        "id": "2mD081ENoaZ4"
      },
      "source": [
        "'''\n",
        "%%writefile /content/boincappdata/global_prefs_override.xml\n",
        "<global_preferences>\n",
        "   <run_on_batteries>1</run_on_batteries>\n",
        "   <run_if_user_active>1</run_if_user_active>\n",
        "   <run_gpu_if_user_active>1</run_gpu_if_user_active>\n",
        "   <suspend_cpu_usage>0.000000</suspend_cpu_usage>\n",
        "   <start_hour>0.000000</start_hour>\n",
        "   <end_hour>0.000000</end_hour>\n",
        "   <net_start_hour>0.000000</net_start_hour>\n",
        "   <net_end_hour>0.000000</net_end_hour>\n",
        "   <leave_apps_in_memory>0</leave_apps_in_memory>\n",
        "   <confirm_before_connecting>0</confirm_before_connecting>\n",
        "   <hangup_if_dialed>0</hangup_if_dialed>\n",
        "   <dont_verify_images>0</dont_verify_images>\n",
        "   <work_buf_min_days>0.000000</work_buf_min_days>\n",
        "   <work_buf_additional_days>0.000000</work_buf_additional_days>\n",
        "   <max_ncpus_pct>100.000000</max_ncpus_pct>\n",
        "   <cpu_scheduling_period_minutes>60.000000</cpu_scheduling_period_minutes>\n",
        "   <disk_interval>60.000000</disk_interval>\n",
        "   <disk_max_used_gb>0.000000</disk_max_used_gb>\n",
        "   <disk_max_used_pct>100.000000</disk_max_used_pct>\n",
        "   <disk_min_free_gb>0.000000</disk_min_free_gb>\n",
        "   <vm_max_used_pct>1.000000</vm_max_used_pct>\n",
        "   <ram_max_used_busy_pct>75.000000</ram_max_used_busy_pct>\n",
        "   <ram_max_used_idle_pct>90.000000</ram_max_used_idle_pct>\n",
        "   <max_bytes_sec_up>0.000000</max_bytes_sec_up>\n",
        "   <max_bytes_sec_down>0.000000</max_bytes_sec_down>\n",
        "   <cpu_usage_limit>100.000000</cpu_usage_limit>\n",
        "   <daily_xfer_limit_mb>0.000000</daily_xfer_limit_mb>\n",
        "   <daily_xfer_period_days>0</daily_xfer_period_days>\n",
        "</global_preferences>\n",
        "'''"
      ],
      "execution_count": null,
      "outputs": []
    },
    {
      "cell_type": "code",
      "metadata": {
        "id": "pSV3eYR_jUSS"
      },
      "source": [
        "#%cd /content/boincappdata/\n",
        "#%pycat /content/boincappdata/client_state.xml"
      ],
      "execution_count": null,
      "outputs": []
    },
    {
      "cell_type": "code",
      "metadata": {
        "id": "A_--TbFEjc6m"
      },
      "source": [
        "#%%writefile /content/boincappdata/client_state.xml"
      ],
      "execution_count": null,
      "outputs": []
    },
    {
      "cell_type": "markdown",
      "metadata": {
        "id": "tfnWYHT6kcI7"
      },
      "source": [
        "# rsync between Colab and Google Drive"
      ]
    },
    {
      "cell_type": "code",
      "metadata": {
        "id": "iko8LCdqi96k"
      },
      "source": [
        "%%writefile /content/rsync-job.sh\n",
        "#!/bin/sh\n",
        "if [ -n \"$(cat /content/error.txt)\" ]; then echo \"ERROR: Something went wrong!\" >>/content/error.txt; exit 1; fi\n",
        "while true; do\n",
        "    uptime >/content/boincappdata/last-uptime.txt\n",
        "    rsync -hva --delete --inplace /content/boincappdata/ /content/gdrive/boincappdata/ &>>/content/rsync-log.txt\n",
        "    echo \"Done syncing at $(date '+%Y%m%d %r %z')\" >>/content/rsync-log.txt\n",
        "    echo >>/content/rsync-log.txt\n",
        "    sleep $((10*60))\n",
        "done"
      ],
      "execution_count": null,
      "outputs": []
    },
    {
      "cell_type": "code",
      "metadata": {
        "id": "ibjx2Bgjjseu"
      },
      "source": [
        "# https://amitness.com/2020/06/google-colaboratory-tips/#17-run-background-tasks\n",
        "print('Previously last uptime:')\n",
        "!if [ -f /content/boincappdata/last-uptime.txt ]; then cat /content/boincappdata/last-uptime.txt; fi\n",
        "!chmod a+x /content/rsync-job.sh\n",
        "!if [ -z $(pgrep -x rsync-job.sh) ]; then bash -c \"nohup chrt -i 0 /content/rsync-job.sh &>/dev/null &\"; fi"
      ],
      "execution_count": null,
      "outputs": []
    },
    {
      "cell_type": "code",
      "metadata": {
        "id": "49tbB1qDTSDk"
      },
      "source": [
        "print('Current last uptime:')\n",
        "!if [ -f /content/boincappdata/last-uptime.txt ]; then cat /content/boincappdata/last-uptime.txt; fi\n",
        "!tail /content/rsync-log.txt"
      ],
      "execution_count": null,
      "outputs": []
    },
    {
      "cell_type": "code",
      "metadata": {
        "id": "o66JRfunOMKe"
      },
      "source": [
        "# WORK IN PROGRESS (RUN AS SEPARATE ACCOUNT)\n",
        "#!runuser -u boinc command\n",
        "#!adduser --no-create-home --disabled-password --gecos \"boinc\" boinc\n",
        "#!deluser --remove-all-files boinc\n",
        "#!delgroup boinc\n",
        "#!chown -hR boinc:boinc /content/boincappdata/\n",
        "#!chmod -R a+rw /content/boincappdata/\n",
        "#!chmod -R u+rwx /content/boincappdata/projects/ /content/boincappdata/slots/"
      ],
      "execution_count": null,
      "outputs": []
    }
  ]
}